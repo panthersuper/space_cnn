{
 "cells": [
  {
   "cell_type": "code",
   "execution_count": 1,
   "metadata": {
    "collapsed": false
   },
   "outputs": [
    {
     "name": "stdout",
     "output_type": "stream",
     "text": [
      "Extracting MNIST_data/train-images-idx3-ubyte.gz\n",
      "Extracting MNIST_data/train-labels-idx1-ubyte.gz\n",
      "Extracting MNIST_data/t10k-images-idx3-ubyte.gz\n",
      "Extracting MNIST_data/t10k-labels-idx1-ubyte.gz\n",
      "0.9177\n",
      "[[ 0.  0.  0. ...,  0.  0.  0.]\n",
      " [ 0.  0.  0. ...,  0.  0.  0.]\n",
      " [ 0.  0.  0. ...,  0.  0.  0.]\n",
      " ..., \n",
      " [ 0.  0.  0. ...,  0.  0.  0.]\n",
      " [ 0.  0.  0. ...,  0.  0.  0.]\n",
      " [ 0.  0.  0. ...,  0.  0.  0.]]\n",
      "[-0.37302664  0.33104309  0.07192253 -0.23663674  0.03104719  1.28974724\n",
      " -0.08171437  0.61277318 -1.42854786 -0.21660675]\n",
      "[[  3.54505646e-05   3.85976540e-09   7.94865264e-05 ...,   9.97204185e-01\n",
      "    2.11792812e-05   3.59434722e-04]\n",
      " [  4.70516784e-03   1.67630387e-05   9.37664032e-01 ...,   4.80937963e-11\n",
      "    1.73221948e-03   2.35555166e-08]\n",
      " [  1.45801860e-05   9.71770108e-01   1.06178271e-02 ...,   4.47754888e-03\n",
      "    3.86017002e-03   7.49590225e-04]\n",
      " ..., \n",
      " [  2.43039381e-07   4.73646224e-07   1.30355374e-05 ...,   3.02084745e-03\n",
      "    9.73724760e-03   4.17236090e-02]\n",
      " [  3.61121492e-04   5.15471911e-04   2.16473258e-04 ...,   2.67567284e-05\n",
      "    1.12579815e-01   1.86006801e-04]\n",
      " [  1.26767936e-05   2.85652751e-11   7.33667039e-05 ...,   2.97417507e-10\n",
      "    3.48084455e-07   2.56858588e-08]]\n"
     ]
    }
   ],
   "source": [
    "import tensorflow as tf\n",
    "\n",
    "from tensorflow.examples.tutorials.mnist import input_data\n",
    "mnist = input_data.read_data_sets(\"MNIST_data/\", one_hot=True)\n",
    "\n",
    "x = tf.placeholder(tf.float32, [None, 784])\n",
    "W = tf.Variable(tf.zeros([784, 10]))\n",
    "b = tf.Variable(tf.zeros([10]))\n",
    "y = tf.nn.softmax(tf.matmul(x, W) + b)\n",
    "y_ = tf.placeholder(tf.float32, [None, 10])\n",
    "cross_entropy = tf.reduce_mean(-tf.reduce_sum(y_ * tf.log(y), reduction_indices=[1]))\n",
    "train_step = tf.train.GradientDescentOptimizer(0.5).minimize(cross_entropy)\n",
    "init = tf.initialize_all_variables()\n",
    "\n",
    "sess = tf.Session()\n",
    "sess.run(init)\n",
    "\n",
    "for i in range(1000):\n",
    "  batch_xs, batch_ys = mnist.train.next_batch(100)\n",
    "  sess.run(train_step, feed_dict={x: batch_xs, y_: batch_ys})\n",
    "\n",
    "correct_prediction = tf.equal(tf.argmax(y,1), tf.argmax(y_,1))\n",
    "accuracy = tf.reduce_mean(tf.cast(correct_prediction, tf.float32))\n",
    "print(sess.run(accuracy, feed_dict={x: mnist.test.images, y_: mnist.test.labels}))\n",
    "\n",
    "print sess.run(W)\n",
    "print sess.run(b)\n",
    "\n",
    "sys_prediction = y\n",
    "print sess.run(sys_prediction, feed_dict={x: mnist.test.images})\n"
   ]
  }
 ],
 "metadata": {
  "kernelspec": {
   "display_name": "Python 2",
   "language": "python",
   "name": "python2"
  },
  "language_info": {
   "codemirror_mode": {
    "name": "ipython",
    "version": 2
   },
   "file_extension": ".py",
   "mimetype": "text/x-python",
   "name": "python",
   "nbconvert_exporter": "python",
   "pygments_lexer": "ipython2",
   "version": "2.7.6"
  }
 },
 "nbformat": 4,
 "nbformat_minor": 1
}
